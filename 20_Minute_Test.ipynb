{
 "cells": [
  {
   "cell_type": "code",
   "execution_count": 1,
   "id": "88e9a155",
   "metadata": {},
   "outputs": [],
   "source": [
    "def tableDataText(table2):    \n",
    "    \"\"\"Parses a html segment started with tag <table> followed \n",
    "    by multiple <tr> (table rows) and inner <td> (table data) tags. \n",
    "    It returns a list of rows with inner columns. \n",
    "    Accepts only one <th> (table header/data) in the first row.\n",
    "    \"\"\"\n",
    "    def rowgetDataText(tr, coltag='td'): # td (data) or th (header)       \n",
    "        return [td.get_text(strip=True) for td in tr.find_all(coltag)]  \n",
    "    rows = []\n",
    "    trs = table[0].find_all('tr')\n",
    "    headerow = rowgetDataText(trs[0], 'th')\n",
    "    if headerow: # if there is a header row include first\n",
    "        rows.append(headerow)\n",
    "        trs = trs[2:]\n",
    "    for tr in trs: # for every table row\n",
    "        rows.append(rowgetDataText(tr, 'td') ) # data row       \n",
    "    return rows"
   ]
  },
  {
   "cell_type": "code",
   "execution_count": null,
   "id": "e915cdb6",
   "metadata": {},
   "outputs": [],
   "source": []
  },
  {
   "cell_type": "code",
   "execution_count": null,
   "id": "90e8c023",
   "metadata": {},
   "outputs": [],
   "source": [
    "import pandas as pd\n",
    "import requests\n",
    "import bs4\n",
    "import time\n",
    "import csv\n",
    "\n",
    "iteration = 0\n",
    "\n",
    "  \n",
    "while(True):\n",
    "    \n",
    "    url = \"https://itmdapps.milwaukee.gov/MPDCallData/index.jsp?district=All\"\n",
    "\n",
    "    i = iteration\n",
    "    response = requests.get(url) \n",
    "    filename = \"mpd_call_data.html\" \n",
    "    filename_format = \"mpd_call_data_{}.html\".format(i) \n",
    "    with open(filename, \"w\") as f:         \n",
    "        f.write(response.text)         \n",
    "    with open(filename_format, \"w\") as f:         \n",
    "        f.write(response.text)  \n",
    "\n",
    "    page = requests.get(url)\n",
    "\n",
    "    soup = bs4.BeautifulSoup(page.content, 'lxml')\n",
    "    table = soup.find_all('tbody')\n",
    "    \n",
    "    list_table = tableDataText(table)\n",
    "    blank_row = [['','','','','','']]\n",
    "    \n",
    "  \n",
    "  \n",
    "    # field names \n",
    "    fields = ['Call Number', 'Date/Time', 'Location', 'Police District', 'Nature of Call', 'Status'] \n",
    "    \n",
    "    # data rows of csv file \n",
    "    rows = list_table \n",
    "  \n",
    "    with open('C:/Users/chris/Downloads/police_scrape_data.csv', 'a', newline='') as f:\n",
    "      \n",
    "        # using csv.writer method from CSV package\n",
    "        write = csv.writer(f) \n",
    "        write.writerows(blank_row)\n",
    "        write.writerows(rows)\n",
    "        \n",
    "    iteration = iteration +1\n",
    "    \n",
    "\n",
    "    time.sleep(1200)"
   ]
  },
  {
   "cell_type": "code",
   "execution_count": null,
   "id": "00c15393",
   "metadata": {},
   "outputs": [],
   "source": []
  }
 ],
 "metadata": {
  "kernelspec": {
   "display_name": "Python 3",
   "language": "python",
   "name": "python3"
  },
  "language_info": {
   "codemirror_mode": {
    "name": "ipython",
    "version": 3
   },
   "file_extension": ".py",
   "mimetype": "text/x-python",
   "name": "python",
   "nbconvert_exporter": "python",
   "pygments_lexer": "ipython3",
   "version": "3.8.8"
  }
 },
 "nbformat": 4,
 "nbformat_minor": 5
}
